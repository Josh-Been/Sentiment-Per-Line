{
 "cells": [
  {
   "cell_type": "markdown",
   "metadata": {},
   "source": [
    "![alt text](https://github.com/Josh-Been/Sentiment-Per-Line/blob/master/Capture.PNG?raw=true \"Baylor University Libraries\")"
   ]
  },
  {
   "cell_type": "markdown",
   "metadata": {},
   "source": [
    "## Sentiment-Per-Line\n",
    "\n",
    "Sentiment values per line in text file. Results downloaded to structured csv table.\n",
    "\n",
    "Baylor University Libraries: Implementation of VaderSentiment\n",
    "\n",
    "VADER (Valence Aware Dictionary and sEntiment Reasoner)\n",
    "\n",
    "This Python application was created by the Baylor University Libraries to assist researchers to apply sentiment to text files using the VaderSentiment library. Baylor University has no connection with the creator of the VaderSentiment library. This is merely a browsable form to access the library.\n",
    "\n",
    "For documentation of the VaderSentiment library, navigate to https://github.com/cjhutto/vaderSentiment.\n",
    "\n",
    "This application will create a comma delimited spreadsheet in the same directory as the selected settings file. The spreadsheet will repeat each line in the first column and write the assigned composite sentiment in the second column."
   ]
  },
  {
   "cell_type": "markdown",
   "metadata": {},
   "source": [
    "**First**, ensure Anaconda 2.7 is installed on your system. If it is not, head to https://www.anaconda.com/download/ and install. Then continue with the next step."
   ]
  },
  {
   "cell_type": "markdown",
   "metadata": {},
   "source": [
    "**Second**, launch the Jupyter Notebook application. If you do not see a launcher for Jupyter Notebook in the Anaconda application directory, launch Anaconda Navigator which will have a link to Jupyter Notebook."
   ]
  },
  {
   "cell_type": "markdown",
   "metadata": {},
   "source": [
    "**Third**, download the Jupyter Notebook file https://raw.githubusercontent.com/Josh-Been/Twitter-Keyword-Search/master/Baylor-Libraries-Sentiment-Per-Line.ipynb and upload to Jupyter.\n",
    "\n",
    "Up to this point you have been reading an HTML version of this Notebook."
   ]
  },
  {
   "cell_type": "markdown",
   "metadata": {},
   "source": [
    "**Fourth**, ensure you have the VaderSentiment library installed. If you are confident you already installed VaderSentiment, skip ahead of this step. Otherwise, put the cursor in the box below and click the 'run cell, select below' button at the top of this notebook."
   ]
  },
  {
   "cell_type": "code",
   "execution_count": 1,
   "metadata": {},
   "outputs": [
    {
     "name": "stdout",
     "output_type": "stream",
     "text": [
      "Requirement already satisfied: vaderSentiment in ./anaconda/lib/python2.7/site-packages\r\n"
     ]
    }
   ],
   "source": [
    "!pip install vaderSentiment"
   ]
  },
  {
   "cell_type": "markdown",
   "metadata": {},
   "source": [
    "**Fifth**, run the Sentiment Per Line tool by placing the cursor in the box below and clicking the 'run cell, select below' button at the top of this notebook.\n",
    "\n",
    "After this runs, you should see the application appear. If you do not see it, check the minimized applications.\n",
    "\n",
    "Then scroll down past the script for assistance using it."
   ]
  },
  {
   "cell_type": "code",
   "execution_count": 3,
   "metadata": {
    "collapsed": true
   },
   "outputs": [],
   "source": [
    "#################\n",
    "#Sentiment values per line in text file. Results downloaded to structured csv table.\n",
    "#Baylor University Libraries: Implementation of VaderSentiment\n",
    "#\n",
    "#This Python application was created by the Baylor University Libraries to assist researchers to apply sentiment to text files using the VaderSentiment library. Baylor University has no connection with the creator of the VaderSentiment library. This is merely a browsable form to access the library. For documentation of the VaderSentiment library, navigate to https://github.com/cjhutto/vaderSentiment.\n",
    "#VADER (Valence Aware Dictionary and sEntiment Reasoner)\n",
    "#This application will create a comma delimited spreadsheet in the same directory as the selected settings file. The spreadsheet will repeat each line in the first column and write the assigned composite sentiment in the second column.\n",
    "#\n",
    "#__Steps__\n",
    "#(1) Ensure Python 2.7 is installed on your computer. The advised package is Anaconda Python, available here https://www.anaconda.com/download\n",
    "#(2) Ensure that you have the proper Python libraries to run the application. This requires the standard Python libraries provided by the Anaconda2 distribution, as well as the PIL (https://anaconda.org/anaconda/pil) and VaderSentiment libraries (pip install vaderSentiment).\\n')\n",
    "#(3) Click the Browse for Text File to Run Vader Sentiment button.\n",
    "#(4) This will create a comma delimited spreadsheet in the same directory as the selected settings file.\n",
    "# \n",
    "# Licensed under the MIT License\n",
    "# Under production\n",
    "# \n",
    "# Developed using Python Anaconda2, 64 bit\n",
    "# Dependencies not included in Anaconda2: VaderSentiment, PIL\n",
    "# Additional dependencies: Tkinter, operator, string, webbrowser, os, subprocess\n",
    "#################\n",
    "\n",
    "import os, operator, string, webbrowser, os, subprocess\n",
    "from vaderSentiment.vaderSentiment import SentimentIntensityAnalyzer\n",
    "from Tkinter import *\n",
    "from tkFileDialog import askopenfilename\n",
    "from tkFileDialog import asksaveasfile\n",
    "\n",
    "\n",
    "def entry_form():\n",
    "    root = Tk()\n",
    "    root.title(\"Baylor University Libraries: VaderSentiment Line Analyzer\")\n",
    "    # root.wm_iconbitmap('ico.ico')\n",
    "\n",
    "    txtHeader = Text(root, height=3, width=48)\n",
    "    txtHeader.pack()\n",
    "    txtHeader.insert(END, \"VaderSentiment Line Analyzer\\nDeveloped by Baylor University Libraries\\nContact Joshua_Been@baylor.edu for assistance\\n\")\n",
    "\n",
    "    separator = Frame(height=0, bd=1, relief=SUNKEN)\n",
    "    separator.pack(fill=X, padx=5, pady=5)\n",
    "\n",
    "    def help_file():\n",
    "        f=open('helpfile.txt', 'w')\n",
    "        f.write('Sentiment values per line in text file. Results downloaded to structured csv table.\\n')\n",
    "        f.write('Baylor University Libraries: Implementation of VaderSentiment\\n\\n')\n",
    "        f.write('This Python application was created by the Baylor University Libraries to assist researchers to apply sentiment to text files using the VaderSentiment library. Baylor University has no connection with the creator of the VaderSentiment library. This is merely a browsable form to access the library. For documentation of the VaderSentiment library, navigate to https://github.com/cjhutto/vaderSentiment.\\n')\n",
    "        f.write('VADER (Valence Aware Dictionary and sEntiment Reasoner)\\n')\n",
    "        f.write('This application will create a comma delimited spreadsheet in the same directory as the selected settings file. The spreadsheet will repeat each line in the first column and write the assigned composite sentiment in the second column.\\n\\n')\n",
    "        f.write('__Steps__\\n')\n",
    "        f.write('(1) Ensure Python 2.7 is installed on your computer. The advised package is Anaconda Python, available here https://www.anaconda.com/download\\n')\n",
    "        f.write('(2) Ensure that you have the proper Python libraries to run the application. This requires the standard Python libraries provided by the Anaconda2 distribution, as well as the PIL (https://anaconda.org/anaconda/pil) and VaderSentiment libraries (pip install vaderSentiment).')\n",
    "        f.write('(3) Click the Browse for Text File to Run Vader Sentiment button.\\n')\n",
    "        f.write('(4) This will create a comma delimited spreadsheet in the same directory as the selected settings file.\\n')\n",
    "        f.close()\n",
    "        launch(f.name)     \n",
    "\n",
    "    def launch(url):\n",
    "        if os.name == 'nt':\n",
    "            command=webbrowser.open(url,new=2)\n",
    "        elif 'http:' in url or 'https:' in url:\n",
    "            command=webbrowser.get().open(url,new=2)\n",
    "        else:\n",
    "            subprocess.call(['open', '-a', 'TextEdit', url])\n",
    "\n",
    "    def destroy():\n",
    "        root.update()\n",
    "        root.destroy()\n",
    "\n",
    "    def strip_non_ascii(string):\n",
    "        ''' Returns the string without non ASCII characters'''\n",
    "        string = string.replace('\\n','')\n",
    "        string = string.replace(',','')\n",
    "        stripped = (c for c in string if 0 < ord(c) < 127)\n",
    "        return ''.join(stripped)\n",
    "\n",
    "    def processVader(txt_file):\n",
    "        analyzer = SentimentIntensityAnalyzer()\n",
    "        lines = txt_file\n",
    "        i = 0\n",
    "        while i >= 0:\n",
    "            print i\n",
    "            if not os.path.isfile(lines.replace('.csv',str(i) + 'Vader.csv')):\n",
    "                out_file = lines.replace('.csv',str(i) + 'Vader.csv')\n",
    "                break\n",
    "            if not os.path.isfile(lines.replace('.txt',str(i) + 'Vader.csv')):\n",
    "                out_file = lines.replace('.txt',str(i) + 'Vader.csv')\n",
    "                break\n",
    "            i+=1\n",
    "        fout = open(out_file, 'w')   \n",
    "        with open(lines) as f:\n",
    "            for line in f:\n",
    "                line = line.replace(',','')\n",
    "                vs = analyzer.polarity_scores(line)\n",
    "                fout.write(line.replace('\\n','') + ',' + str(vs['compound']) + '\\n')\n",
    "        fout.close()\n",
    "        \n",
    "    def callback():\n",
    "        txt_file = askopenfilename(defaultextension='.txt', filetypes=(('text', '*.txt'),('comma separated', '*.csv')))\n",
    "        if txt_file != '':\n",
    "            try:\n",
    "                txtSelected.set('Processing')\n",
    "                processVader(txt_file)\n",
    "                txtSelected.set('Job Successful!')\n",
    "                root.update()\n",
    "            except:\n",
    "                txtSelected.set('! Problem Processing !')\n",
    "            \n",
    "    Button(root, text='Browse for Text File (.txt) to Process Sentiment', fg='blue', command=callback).pack(fill=X)\n",
    "    txtSelected = StringVar()\n",
    "    Label(root, textvariable=txtSelected, fg='white', bg='black').pack()\n",
    "    txtSelected.set('Idle...')\n",
    "\n",
    "    # create a toplevel menu\n",
    "    menubar = Menu(root)\n",
    "\n",
    "    # display the menu\n",
    "    root.config(menu=menubar)\n",
    "    \n",
    "    # create a pulldown menu, and add it to the menu bar\n",
    "    filemenu = Menu(menubar, tearoff=0)\n",
    "    filemenu.add_command(label=\"Digital Scholarship @ Baylor\", command=lambda : launch('http://blogs.baylor.edu/digitalscholarship/'))\n",
    "    filemenu.add_command(label='Vader Sentiment', command=lambda : launch('https://github.com/cjhutto/vaderSentiment'))    \n",
    "    menubar.add_cascade(label=\"Links\", menu=filemenu)\n",
    "\n",
    "    helpmenu = Menu(menubar, tearoff=0)\n",
    "    helpmenu.add_command(label=\"Documentation\", command=help_file)\n",
    "    helpmenu.add_command(label=\"Contact Author\", command=lambda : launch('http://researchguides.baylor.edu/prf.php?account_id=144176'))\n",
    "    menubar.add_cascade(label=\"About\", menu=helpmenu)\n",
    "\n",
    "    menubar.add_command(label=\"Quit\", command=destroy)\n",
    "\n",
    "    # display the menu\n",
    "    root.config(menu=menubar)\n",
    "    \n",
    "    mainloop()\n",
    "\n",
    "def main():\n",
    "    entry_form()\n",
    "\n",
    "if __name__ == \"__main__\":\n",
    "    main()\n"
   ]
  },
  {
   "cell_type": "markdown",
   "metadata": {},
   "source": [
    "**Last**, click the Browse for Text File button to locate your text file and a second text file will be created in the same directory containing sentiment values between -1 to +1."
   ]
  }
 ],
 "metadata": {
  "kernelspec": {
   "display_name": "Python 2",
   "language": "python",
   "name": "python2"
  },
  "language_info": {
   "codemirror_mode": {
    "name": "ipython",
    "version": 2
   },
   "file_extension": ".py",
   "mimetype": "text/x-python",
   "name": "python",
   "nbconvert_exporter": "python",
   "pygments_lexer": "ipython2",
   "version": "2.7.13"
  }
 },
 "nbformat": 4,
 "nbformat_minor": 2
}
